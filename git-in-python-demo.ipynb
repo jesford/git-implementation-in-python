{
 "cells": [
  {
   "cell_type": "markdown",
   "metadata": {},
   "source": [
    "# Custom Git Repo with Python"
   ]
  },
  {
   "cell_type": "code",
   "execution_count": 1,
   "metadata": {
    "collapsed": true
   },
   "outputs": [],
   "source": [
    "import hashlib\n",
    "import zlib\n",
    "import os\n",
    "import datetime"
   ]
  },
  {
   "cell_type": "code",
   "execution_count": 2,
   "metadata": {
    "collapsed": true
   },
   "outputs": [],
   "source": [
    "# remove the files if we've already done this; otherwise start with clean directory structure\n",
    "try:\n",
    "    os.mkdir('gitsimplepython/')\n",
    "except FileExistsError:\n",
    "    os.system('rm -rf gitsimplepython/.git')\n",
    "\n",
    "os.mkdir('gitsimplepython/.git/')\n",
    "os.mkdir('gitsimplepython/.git/objects')"
   ]
  },
  {
   "cell_type": "code",
   "execution_count": 3,
   "metadata": {},
   "outputs": [
    {
     "name": "stdout",
     "output_type": "stream",
     "text": [
      "gitsimplepython\r\n",
      "gitsimplepython/.git\r\n",
      "gitsimplepython/.git/objects\r\n"
     ]
    }
   ],
   "source": [
    "!find gitsimplepython"
   ]
  },
  {
   "cell_type": "markdown",
   "metadata": {},
   "source": [
    "### What's needed for a Git file?\n",
    "\n",
    "1. content\n",
    "2. header information\n",
    "3. blob `<content-length>\\0\\<content>\\n`\n",
    "\n",
    "### Create the file content"
   ]
  },
  {
   "cell_type": "code",
   "execution_count": 4,
   "metadata": {},
   "outputs": [
    {
     "data": {
      "text/plain": [
       "b'hello world'"
      ]
     },
     "execution_count": 4,
     "metadata": {},
     "output_type": "execute_result"
    }
   ],
   "source": [
    "blob_content = b\"hello world\"\n",
    "blob_content"
   ]
  },
  {
   "cell_type": "markdown",
   "metadata": {},
   "source": [
    "### Create the header information"
   ]
  },
  {
   "cell_type": "code",
   "execution_count": 5,
   "metadata": {},
   "outputs": [
    {
     "data": {
      "text/plain": [
       "b'blob 11\\x00'"
      ]
     },
     "execution_count": 5,
     "metadata": {},
     "output_type": "execute_result"
    }
   ],
   "source": [
    "blob_header = \"blob {}\\0\".format(len(blob_content)).encode('utf-8')\n",
    "blob_header"
   ]
  },
  {
   "cell_type": "markdown",
   "metadata": {},
   "source": [
    "### Create the blob and a hash"
   ]
  },
  {
   "cell_type": "code",
   "execution_count": 6,
   "metadata": {},
   "outputs": [
    {
     "name": "stdout",
     "output_type": "stream",
     "text": [
      "b'blob 11\\x00hello world\\n'\n"
     ]
    }
   ],
   "source": [
    "blob_store = blob_header + blob_content + b\"\\n\"\n",
    "print(blob_store)"
   ]
  },
  {
   "cell_type": "code",
   "execution_count": 7,
   "metadata": {},
   "outputs": [
    {
     "data": {
      "text/plain": [
       "'9972de6ab4626b28c8798abe3624bec5c82ea9c4'"
      ]
     },
     "execution_count": 7,
     "metadata": {},
     "output_type": "execute_result"
    }
   ],
   "source": [
    "hash_object = hashlib.sha1(blob_store)\n",
    "blob_hash = hash_object.hexdigest()\n",
    "blob_hash"
   ]
  },
  {
   "cell_type": "markdown",
   "metadata": {},
   "source": [
    "### Compress the file"
   ]
  },
  {
   "cell_type": "code",
   "execution_count": 8,
   "metadata": {},
   "outputs": [
    {
     "data": {
      "text/plain": [
       "b'x\\x9cK\\xca\\xc9OR04d\\xc8H\\xcd\\xc9\\xc9W(\\xcf/\\xcaI\\xe1\\x02\\x00D\\x03\\x06\\x88'"
      ]
     },
     "execution_count": 8,
     "metadata": {},
     "output_type": "execute_result"
    }
   ],
   "source": [
    "zlib_blob_store = zlib.compress(blob_store)\n",
    "zlib_blob_store"
   ]
  },
  {
   "cell_type": "markdown",
   "metadata": {},
   "source": [
    "### This file needs a directory"
   ]
  },
  {
   "cell_type": "code",
   "execution_count": 9,
   "metadata": {},
   "outputs": [
    {
     "data": {
      "text/plain": [
       "'gitsimplepython/.git/objects/99/'"
      ]
     },
     "execution_count": 9,
     "metadata": {},
     "output_type": "execute_result"
    }
   ],
   "source": [
    "blob_directoryname = 'gitsimplepython/.git/objects/{}/'.format(blob_hash[0:2])\n",
    "blob_directoryname"
   ]
  },
  {
   "cell_type": "code",
   "execution_count": 10,
   "metadata": {
    "collapsed": true
   },
   "outputs": [],
   "source": [
    "# create the directory\n",
    "os.mkdir(blob_directoryname)"
   ]
  },
  {
   "cell_type": "code",
   "execution_count": 11,
   "metadata": {},
   "outputs": [
    {
     "data": {
      "text/plain": [
       "'gitsimplepython/.git/objects/99/72de6ab4626b28c8798abe3624bec5c82ea9c4'"
      ]
     },
     "execution_count": 11,
     "metadata": {},
     "output_type": "execute_result"
    }
   ],
   "source": [
    "blob_filename = blob_directoryname + blob_hash[2:]\n",
    "blob_filename"
   ]
  },
  {
   "cell_type": "code",
   "execution_count": 12,
   "metadata": {
    "collapsed": true
   },
   "outputs": [],
   "source": [
    "# write the compressed binary content to the file we just created\n",
    "with open(blob_filename, 'wb') as file:\n",
    "    file.write(zlib_blob_store)"
   ]
  },
  {
   "cell_type": "markdown",
   "metadata": {},
   "source": [
    "### What do we have now?"
   ]
  },
  {
   "cell_type": "code",
   "execution_count": 13,
   "metadata": {},
   "outputs": [
    {
     "name": "stdout",
     "output_type": "stream",
     "text": [
      "gitsimplepython\r\n",
      "gitsimplepython/.git\r\n",
      "gitsimplepython/.git/objects\r\n",
      "gitsimplepython/.git/objects/99\r\n",
      "gitsimplepython/.git/objects/99/72de6ab4626b28c8798abe3624bec5c82ea9c4\r\n"
     ]
    }
   ],
   "source": [
    "!find gitsimplepython"
   ]
  },
  {
   "cell_type": "code",
   "execution_count": 14,
   "metadata": {},
   "outputs": [
    {
     "name": "stdout",
     "output_type": "stream",
     "text": [
      "\u001b[33mcommit 5d6a14b9f552679c839127151ac67e532fa40464\u001b[m\r\n",
      "Author: Jes Ford <jesford.data@gmail.com>\r\n",
      "Date:   Sun Jun 25 17:03:23 2017 -0600\r\n",
      "\r\n",
      "    Initial commit\r\n"
     ]
    }
   ],
   "source": [
    "# running `git log` does not yet work though...\n",
    "!git log"
   ]
  },
  {
   "cell_type": "markdown",
   "metadata": {
    "collapsed": true
   },
   "source": [
    "### We need a tree\n",
    "\n",
    "What is a tree?\n",
    "```\n",
    "tree <length>\\0<mode><name>\\0<sha>\n",
    "```"
   ]
  },
  {
   "cell_type": "code",
   "execution_count": 15,
   "metadata": {},
   "outputs": [
    {
     "data": {
      "text/plain": [
       "b'100644 README.md\\x00x\\x9cK\\xca\\xc9OR04d\\xc8H\\xcd\\xc9\\xc9W(\\xcf/\\xcaI\\xe1\\x02\\x00D\\x03\\x06\\x88'"
      ]
     },
     "execution_count": 15,
     "metadata": {},
     "output_type": "execute_result"
    }
   ],
   "source": [
    "tree_content = b\"100644 README.md\\0\" + zlib_blob_store\n",
    "tree_content"
   ]
  },
  {
   "cell_type": "code",
   "execution_count": 16,
   "metadata": {},
   "outputs": [
    {
     "data": {
      "text/plain": [
       "b'tree 45\\x00'"
      ]
     },
     "execution_count": 16,
     "metadata": {},
     "output_type": "execute_result"
    }
   ],
   "source": [
    "tree_header = \"tree {}\\0\".format(len(tree_content)).encode('utf-8')\n",
    "tree_header"
   ]
  },
  {
   "cell_type": "code",
   "execution_count": 17,
   "metadata": {},
   "outputs": [
    {
     "data": {
      "text/plain": [
       "b'tree 45\\x00100644 README.md\\x00x\\x9cK\\xca\\xc9OR04d\\xc8H\\xcd\\xc9\\xc9W(\\xcf/\\xcaI\\xe1\\x02\\x00D\\x03\\x06\\x88'"
      ]
     },
     "execution_count": 17,
     "metadata": {},
     "output_type": "execute_result"
    }
   ],
   "source": [
    "tree_store = tree_header + tree_content\n",
    "tree_store"
   ]
  },
  {
   "cell_type": "code",
   "execution_count": 18,
   "metadata": {},
   "outputs": [
    {
     "data": {
      "text/plain": [
       "'0f7c91117308c93c365fe11ba0b06e8920790008'"
      ]
     },
     "execution_count": 18,
     "metadata": {},
     "output_type": "execute_result"
    }
   ],
   "source": [
    "hash_object = hashlib.sha1(tree_store)\n",
    "tree_hash = hash_object.hexdigest()\n",
    "tree_hash"
   ]
  },
  {
   "cell_type": "code",
   "execution_count": 19,
   "metadata": {
    "collapsed": true
   },
   "outputs": [],
   "source": [
    "tree_directoryname = \"gitsimplepython/.git/objects/{}/\".format(tree_hash[0:2])\n",
    "os.mkdir(tree_directoryname)"
   ]
  },
  {
   "cell_type": "code",
   "execution_count": 20,
   "metadata": {},
   "outputs": [
    {
     "data": {
      "text/plain": [
       "'gitsimplepython/.git/objects/0f/7c91117308c93c365fe11ba0b06e8920790008'"
      ]
     },
     "execution_count": 20,
     "metadata": {},
     "output_type": "execute_result"
    }
   ],
   "source": [
    "tree_filename = tree_directoryname + tree_hash[2:]\n",
    "tree_filename"
   ]
  },
  {
   "cell_type": "code",
   "execution_count": 21,
   "metadata": {
    "collapsed": true
   },
   "outputs": [],
   "source": [
    "zlib_tree_store = zlib.compress(tree_store)\n",
    "with open(tree_filename, 'wb') as file:\n",
    "    file.write(zlib_tree_store)"
   ]
  },
  {
   "cell_type": "code",
   "execution_count": 22,
   "metadata": {},
   "outputs": [
    {
     "name": "stdout",
     "output_type": "stream",
     "text": [
      "\u001b[33mcommit 5d6a14b9f552679c839127151ac67e532fa40464\u001b[m\r\n",
      "Author: Jes Ford <jesford.data@gmail.com>\r\n",
      "Date:   Sun Jun 25 17:03:23 2017 -0600\r\n",
      "\r\n",
      "    Initial commit\r\n"
     ]
    }
   ],
   "source": [
    "# `git log` still doesn't work... we need a commit\n",
    "!git log"
   ]
  },
  {
   "cell_type": "markdown",
   "metadata": {},
   "source": [
    "### Create a commit"
   ]
  },
  {
   "cell_type": "code",
   "execution_count": 23,
   "metadata": {},
   "outputs": [
    {
     "data": {
      "text/plain": [
       "'1498433038'"
      ]
     },
     "execution_count": 23,
     "metadata": {},
     "output_type": "execute_result"
    }
   ],
   "source": [
    "now = datetime.datetime.now().strftime('%s')  # timestamp in seconds\n",
    "now"
   ]
  },
  {
   "cell_type": "code",
   "execution_count": 24,
   "metadata": {},
   "outputs": [
    {
     "data": {
      "text/plain": [
       "'tree 0f7c91117308c93c365fe11ba0b06e8920790008\\nauthor Matt Duff <mattcantstop@github.com> 1498433038 +0100\\ncommitter Matt Duff <mattcantstop@github.com> 1498433038 +0100\\n\\nCreate README file\\n'"
      ]
     },
     "execution_count": 24,
     "metadata": {},
     "output_type": "execute_result"
    }
   ],
   "source": [
    "commit_content = \"tree {}\\n\".format(tree_hash)\n",
    "commit_content += \"author Matt Duff <mattcantstop@github.com> {} +0100\\n\".format(now)\n",
    "commit_content += \"committer Matt Duff <mattcantstop@github.com> {} +0100\\n\".format(now)\n",
    "commit_content += \"\\nCreate README file\\n\"\n",
    "\n",
    "commit_content"
   ]
  },
  {
   "cell_type": "code",
   "execution_count": 25,
   "metadata": {},
   "outputs": [
    {
     "name": "stdout",
     "output_type": "stream",
     "text": [
      "tree 0f7c91117308c93c365fe11ba0b06e8920790008\n",
      "author Matt Duff <mattcantstop@github.com> 1498433038 +0100\n",
      "committer Matt Duff <mattcantstop@github.com> 1498433038 +0100\n",
      "\n",
      "Create README file\n",
      "\n"
     ]
    }
   ],
   "source": [
    "# print formatted nicely\n",
    "print(commit_content)"
   ]
  },
  {
   "cell_type": "code",
   "execution_count": 26,
   "metadata": {},
   "outputs": [
    {
     "data": {
      "text/plain": [
       "'commit 189\\x00'"
      ]
     },
     "execution_count": 26,
     "metadata": {},
     "output_type": "execute_result"
    }
   ],
   "source": [
    "commit_header = \"commit {}\\0\".format(len(commit_content))\n",
    "commit_header"
   ]
  },
  {
   "cell_type": "code",
   "execution_count": 27,
   "metadata": {},
   "outputs": [
    {
     "data": {
      "text/plain": [
       "b'commit 189\\x00tree 0f7c91117308c93c365fe11ba0b06e8920790008\\nauthor Matt Duff <mattcantstop@github.com> 1498433038 +0100\\ncommitter Matt Duff <mattcantstop@github.com> 1498433038 +0100\\n\\nCreate README file\\n'"
      ]
     },
     "execution_count": 27,
     "metadata": {},
     "output_type": "execute_result"
    }
   ],
   "source": [
    "commit_store = commit_header + commit_content\n",
    "commit_store = commit_store.encode('utf-8')\n",
    "commit_store"
   ]
  },
  {
   "cell_type": "markdown",
   "metadata": {},
   "source": [
    "### Create new folder for commit"
   ]
  },
  {
   "cell_type": "code",
   "execution_count": 28,
   "metadata": {},
   "outputs": [
    {
     "data": {
      "text/plain": [
       "'7df7068289fd437a0a0c2d0dc28293a171f8ef69'"
      ]
     },
     "execution_count": 28,
     "metadata": {},
     "output_type": "execute_result"
    }
   ],
   "source": [
    "hash_object = hashlib.sha1(commit_store)\n",
    "commit_hash = hash_object.hexdigest()\n",
    "commit_hash"
   ]
  },
  {
   "cell_type": "code",
   "execution_count": 29,
   "metadata": {
    "collapsed": true
   },
   "outputs": [],
   "source": [
    "commit_directoryname = \"gitsimplepython/.git/objects/{}/\".format(commit_hash[0:2])\n",
    "os.mkdir(commit_directoryname)"
   ]
  },
  {
   "cell_type": "code",
   "execution_count": 30,
   "metadata": {},
   "outputs": [
    {
     "data": {
      "text/plain": [
       "'gitsimplepython/.git/objects/7d/f7068289fd437a0a0c2d0dc28293a171f8ef69'"
      ]
     },
     "execution_count": 30,
     "metadata": {},
     "output_type": "execute_result"
    }
   ],
   "source": [
    "commit_filename = commit_directoryname + commit_hash[2:]\n",
    "commit_filename"
   ]
  },
  {
   "cell_type": "code",
   "execution_count": 31,
   "metadata": {
    "collapsed": true
   },
   "outputs": [],
   "source": [
    "zlib_commit_store = zlib.compress(commit_store)\n",
    "\n",
    "with open(commit_filename, 'wb') as file:\n",
    "    file.write(zlib_commit_store)"
   ]
  },
  {
   "cell_type": "markdown",
   "metadata": {},
   "source": [
    "### What does our directory look like now?"
   ]
  },
  {
   "cell_type": "code",
   "execution_count": 32,
   "metadata": {},
   "outputs": [
    {
     "name": "stdout",
     "output_type": "stream",
     "text": [
      "gitsimplepython\r\n",
      "gitsimplepython/.git\r\n",
      "gitsimplepython/.git/objects\r\n",
      "gitsimplepython/.git/objects/0f\r\n",
      "gitsimplepython/.git/objects/0f/7c91117308c93c365fe11ba0b06e8920790008\r\n",
      "gitsimplepython/.git/objects/7d\r\n",
      "gitsimplepython/.git/objects/7d/f7068289fd437a0a0c2d0dc28293a171f8ef69\r\n",
      "gitsimplepython/.git/objects/99\r\n",
      "gitsimplepython/.git/objects/99/72de6ab4626b28c8798abe3624bec5c82ea9c4\r\n"
     ]
    }
   ],
   "source": [
    "!find gitsimplepython"
   ]
  },
  {
   "cell_type": "code",
   "execution_count": 33,
   "metadata": {},
   "outputs": [
    {
     "name": "stdout",
     "output_type": "stream",
     "text": [
      "\u001b[33mcommit 5d6a14b9f552679c839127151ac67e532fa40464\u001b[m\r\n",
      "Author: Jes Ford <jesford.data@gmail.com>\r\n",
      "Date:   Sun Jun 25 17:03:23 2017 -0600\r\n",
      "\r\n",
      "    Initial commit\r\n"
     ]
    }
   ],
   "source": [
    "# still doesn't work...\n",
    "!git log"
   ]
  },
  {
   "cell_type": "markdown",
   "metadata": {},
   "source": [
    "### We are missing the refs!\n",
    "Let's add that folder and a master branch reference."
   ]
  },
  {
   "cell_type": "code",
   "execution_count": 34,
   "metadata": {
    "collapsed": true
   },
   "outputs": [],
   "source": [
    "os.mkdir(\"gitsimplepython/.git/refs/\")\n",
    "os.mkdir(\"gitsimplepython/.git/refs/heads\")"
   ]
  },
  {
   "cell_type": "code",
   "execution_count": 35,
   "metadata": {},
   "outputs": [
    {
     "data": {
      "text/plain": [
       "'echo 7df7068289fd437a0a0c2d0dc28293a171f8ef69 > gitsimplepython/.git/refs/heads/master'"
      ]
     },
     "execution_count": 35,
     "metadata": {},
     "output_type": "execute_result"
    }
   ],
   "source": [
    "echo_to_file_command = \"echo {} > gitsimplepython/.git/refs/heads/master\".format(commit_hash)\n",
    "echo_to_file_command"
   ]
  },
  {
   "cell_type": "code",
   "execution_count": 36,
   "metadata": {},
   "outputs": [
    {
     "data": {
      "text/plain": [
       "0"
      ]
     },
     "execution_count": 36,
     "metadata": {},
     "output_type": "execute_result"
    }
   ],
   "source": [
    "os.system(echo_to_file_command)"
   ]
  },
  {
   "cell_type": "code",
   "execution_count": 37,
   "metadata": {},
   "outputs": [
    {
     "name": "stdout",
     "output_type": "stream",
     "text": [
      "7df7068289fd437a0a0c2d0dc28293a171f8ef69\r\n"
     ]
    }
   ],
   "source": [
    "# check contents of file\n",
    "!cat gitsimplepython/.git/refs/heads/master"
   ]
  },
  {
   "cell_type": "markdown",
   "metadata": {},
   "source": [
    "### Let HEAD know who the current branch is"
   ]
  },
  {
   "cell_type": "code",
   "execution_count": 38,
   "metadata": {},
   "outputs": [
    {
     "data": {
      "text/plain": [
       "0"
      ]
     },
     "execution_count": 38,
     "metadata": {},
     "output_type": "execute_result"
    }
   ],
   "source": [
    "os.system(\"echo 'ref: refs/heads/master' > gitsimplepython/.git/HEAD\")"
   ]
  },
  {
   "cell_type": "code",
   "execution_count": 39,
   "metadata": {},
   "outputs": [
    {
     "name": "stdout",
     "output_type": "stream",
     "text": [
      "gitsimplepython\r\n",
      "gitsimplepython/.git\r\n",
      "gitsimplepython/.git/HEAD\r\n",
      "gitsimplepython/.git/objects\r\n",
      "gitsimplepython/.git/objects/0f\r\n",
      "gitsimplepython/.git/objects/0f/7c91117308c93c365fe11ba0b06e8920790008\r\n",
      "gitsimplepython/.git/objects/7d\r\n",
      "gitsimplepython/.git/objects/7d/f7068289fd437a0a0c2d0dc28293a171f8ef69\r\n",
      "gitsimplepython/.git/objects/99\r\n",
      "gitsimplepython/.git/objects/99/72de6ab4626b28c8798abe3624bec5c82ea9c4\r\n",
      "gitsimplepython/.git/refs\r\n",
      "gitsimplepython/.git/refs/heads\r\n",
      "gitsimplepython/.git/refs/heads/master\r\n"
     ]
    }
   ],
   "source": [
    "!find gitsimplepython"
   ]
  },
  {
   "cell_type": "code",
   "execution_count": 40,
   "metadata": {},
   "outputs": [
    {
     "name": "stdout",
     "output_type": "stream",
     "text": [
      "7df7068289fd437a0a0c2d0dc28293a171f8ef69\r\n"
     ]
    }
   ],
   "source": [
    "!cat gitsimplepython/.git/refs/heads/master"
   ]
  },
  {
   "cell_type": "markdown",
   "metadata": {},
   "source": [
    "### Does it work now???"
   ]
  },
  {
   "cell_type": "code",
   "execution_count": 41,
   "metadata": {},
   "outputs": [
    {
     "name": "stdout",
     "output_type": "stream",
     "text": [
      "\u001b[33mcommit 5d6a14b9f552679c839127151ac67e532fa40464\u001b[m\r\n",
      "Author: Jes Ford <jesford.data@gmail.com>\r\n",
      "Date:   Sun Jun 25 17:03:23 2017 -0600\r\n",
      "\r\n",
      "    Initial commit\r\n"
     ]
    }
   ],
   "source": [
    "!git log  # oh wait, but this notebook is not in the git directory..."
   ]
  },
  {
   "cell_type": "code",
   "execution_count": 42,
   "metadata": {},
   "outputs": [
    {
     "name": "stdout",
     "output_type": "stream",
     "text": [
      "/Users/jesford/git-implementation-in-python\r\n"
     ]
    }
   ],
   "source": [
    "!pwd"
   ]
  },
  {
   "cell_type": "code",
   "execution_count": 43,
   "metadata": {},
   "outputs": [
    {
     "name": "stdout",
     "output_type": "stream",
     "text": [
      "\u001b[33mcommit 7df7068289fd437a0a0c2d0dc28293a171f8ef69\u001b[m\r\n",
      "Author: Matt Duff <mattcantstop@github.com>\r\n",
      "Date:   Mon Jun 26 00:23:58 2017 +0100\r\n",
      "\r\n",
      "    Create README file\r\n"
     ]
    }
   ],
   "source": [
    "!cd gitsimplepython/ && git log"
   ]
  },
  {
   "cell_type": "markdown",
   "metadata": {},
   "source": [
    "### Hooray!"
   ]
  }
 ],
 "metadata": {
  "anaconda-cloud": {},
  "kernelspec": {
   "display_name": "Python 3",
   "language": "python",
   "name": "python3"
  },
  "language_info": {
   "codemirror_mode": {
    "name": "ipython",
    "version": 3
   },
   "file_extension": ".py",
   "mimetype": "text/x-python",
   "name": "python",
   "nbconvert_exporter": "python",
   "pygments_lexer": "ipython3",
   "version": "3.5.1"
  }
 },
 "nbformat": 4,
 "nbformat_minor": 1
}
